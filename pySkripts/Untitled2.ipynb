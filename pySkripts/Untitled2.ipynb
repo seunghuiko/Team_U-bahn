{
 "cells": [
  {
   "cell_type": "markdown",
   "id": "44474efe-8f2c-4430-910f-30235f3da335",
   "metadata": {},
   "source": [
    "# Data Set: ECG-EDA in U-Bahn Berlin\n",
    "\n",
    "This data set was collected as part of the seminar *Psychophysiology 24/25*.\n",
    "\n",
    "---\n",
    "\n",
    "## Overview\n",
    "- **Route**: Berlin U2 line (Pankow ↔ Zoologischer Garten)  \n",
    "- **Duration**: ~30 minutes  \n",
    "- **Conditions**:  \n",
    "  - Distinction made between **full** and **empty** subway environments  \n",
    "\n",
    "---\n",
    "\n",
    "## Contact\n",
    "- **Name**: L. Strasser  \n",
    "- **Email**: [l.strasser@campus.tu-berlin.de](mailto:l.strasser@campus.tu-berlin.de)\n",
    "\n",
    "---\n",
    "\n",
    "## Modalities and Recording Details\n",
    "- **Modalities**:  \n",
    "  - EDA (Electrodermal Activity)  \n",
    "  - ECG (Electrocardiography)  \n",
    "\n",
    "- **Recording Hardware**: Bitalino Kit  \n",
    "- **Recording Software**: OpenSignals  \n",
    "\n",
    "---\n",
    "\n",
    "## Data Files\n",
    "- `sub-XX_long.txt`: Full recording of the ride from Pankow to Zoologischer Garten  \n",
    "- `sub-XX_short.txt`: Baseline task  \n",
    "\n",
    "---\n",
    "\n",
    "## Additional Resources\n",
    "Python scripts for further data analysis are available at:  \n",
    "- **OSF**: [https://osf.io/e5tr4/?view_only=269bbd0b3dd34ea6955c23e064f2ee4f](https://osf.io/e5tr4/?view_only=269bbd0b3dd34ea6955c23e064f2ee4f)  \n",
    "- **GitHub**: [https://github.com/seunghuiko/Team_U-bahn](https://github.com/seunghuiko/Team_U-bahn)\n"
   ]
  },
  {
   "cell_type": "code",
   "execution_count": null,
   "id": "0023f110-a122-47b6-a96d-241ef17680af",
   "metadata": {},
   "outputs": [],
   "source": []
  }
 ],
 "metadata": {
  "kernelspec": {
   "display_name": "Python 3 (ipykernel)",
   "language": "python",
   "name": "python3"
  },
  "language_info": {
   "codemirror_mode": {
    "name": "ipython",
    "version": 3
   },
   "file_extension": ".py",
   "mimetype": "text/x-python",
   "name": "python",
   "nbconvert_exporter": "python",
   "pygments_lexer": "ipython3",
   "version": "3.11.7"
  }
 },
 "nbformat": 4,
 "nbformat_minor": 5
}
